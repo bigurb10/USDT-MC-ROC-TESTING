{
 "cells": [
  {
   "cell_type": "code",
   "execution_count": 37,
   "metadata": {},
   "outputs": [],
   "source": [
    "%matplotlib inline\n",
    "import matplotlib.pyplot as plt\n",
    "import pandas as pd\n",
    "TROC_Bull_returns_dict = dict()\n",
    "TROC_Bear_returns_dict = dict()\n",
    "output_to_csv1 = []\n",
    "output_to_csv2 = []"
   ]
  },
  {
   "cell_type": "code",
   "execution_count": 38,
   "metadata": {},
   "outputs": [
    {
     "name": "stdout",
     "output_type": "stream",
     "text": [
      "This TROC Bull model yields an average of 0.9000351465346725 per year using 1 days\n",
      "This TROC Bear model yields an average of 0.031154855576093876 per year using 1 days\n",
      "This TROC Bull model yields an average of 0.768896459076817 per year using 2 days\n",
      "This TROC Bear model yields an average of 0.10760042345100307 per year using 2 days\n",
      "This TROC Bull model yields an average of 0.8935033669908921 per year using 3 days\n",
      "This TROC Bear model yields an average of 0.03471190031630278 per year using 3 days\n",
      "This TROC Bull model yields an average of 0.9486687660639503 per year using 4 days\n",
      "This TROC Bear model yields an average of 0.005419957067329895 per year using 4 days\n",
      "This TROC Bull model yields an average of 1.0233687480843336 per year using 5 days\n",
      "This TROC Bear model yields an average of -0.03169876031276708 per year using 5 days\n",
      "This TROC Bull model yields an average of 0.9156711856751563 per year using 6 days\n",
      "This TROC Bear model yields an average of 0.022738391517830747 per year using 6 days\n",
      "This TROC Bull model yields an average of 0.9750285695282326 per year using 7 days\n",
      "This TROC Bear model yields an average of -0.00799892348774589 per year using 7 days\n",
      "This TROC Bull model yields an average of 0.8563288197423464 per year using 8 days\n",
      "This TROC Bear model yields an average of 0.05543287712701628 per year using 8 days\n",
      "This TROC Bull model yields an average of 0.7990882439745919 per year using 9 days\n",
      "This TROC Bear model yields an average of 0.08901298959415227 per year using 9 days\n",
      "This TROC Bull model yields an average of 0.7149786780383007 per year using 10 days\n",
      "This TROC Bear model yields an average of 0.14242263895406237 per year using 10 days\n",
      "This TROC Bull model yields an average of 0.6513811951841473 per year using 11 days\n",
      "This TROC Bear model yields an average of 0.18641926699182698 per year using 11 days\n",
      "This TROC Bull model yields an average of 0.829281348557525 per year using 12 days\n",
      "This TROC Bear model yields an average of 0.07103834446210855 per year using 12 days\n",
      "This TROC Bull model yields an average of 0.6963131975009198 per year using 13 days\n",
      "This TROC Bear model yields an average of 0.15499335264318193 per year using 13 days\n",
      "This TROC Bull model yields an average of 0.7711151352842973 per year using 14 days\n",
      "This TROC Bear model yields an average of 0.10621293222700068 per year using 14 days\n",
      "This TROC Bull model yields an average of 0.7254157933937659 per year using 15 days\n",
      "This TROC Bear model yields an average of 0.13551207460597126 per year using 15 days\n",
      "This TROC Bull model yields an average of 0.7457874082993861 per year using 16 days\n",
      "This TROC Bear model yields an average of 0.12226177013328243 per year using 16 days\n",
      "This TROC Bull model yields an average of 1.0042510714448585 per year using 17 days\n",
      "This TROC Bear model yields an average of -0.0224625571974576 per year using 17 days\n",
      "This TROC Bull model yields an average of 1.0857608647557848 per year using 18 days\n",
      "This TROC Bear model yields an average of -0.06066390437148028 per year using 18 days\n",
      "This TROC Bull model yields an average of 0.9361895779195435 per year using 19 days\n",
      "This TROC Bear model yields an average of 0.01190012045188138 per year using 19 days\n",
      "This TROC Bull model yields an average of 1.0296682651747227 per year using 20 days\n",
      "This TROC Bear model yields an average of -0.03470409389989415 per year using 20 days\n",
      "This TROC Bull model yields an average of 0.7422214364777024 per year using 21 days\n",
      "This TROC Bear model yields an average of 0.12455881100596145 per year using 21 days\n",
      "This TROC Bull model yields an average of 0.8897814357038198 per year using 22 days\n",
      "This TROC Bear model yields an average of 0.036749769099504004 per year using 22 days\n",
      "This TROC Bull model yields an average of 0.6527402813140457 per year using 23 days\n",
      "This TROC Bear model yields an average of 0.18544364729631746 per year using 23 days\n",
      "This TROC Bull model yields an average of 0.7362632020414261 per year using 24 days\n",
      "This TROC Bear model yields an average of 0.12841789471255383 per year using 24 days\n",
      "This TROC Bull model yields an average of 0.850746067283457 per year using 25 days\n",
      "This TROC Bear model yields an average of 0.05861657725429703 per year using 25 days\n",
      "This TROC Bull model yields an average of 1.1672277140758038 per year using 26 days\n",
      "This TROC Bear model yields an average of -0.09597387741510977 per year using 26 days\n",
      "This TROC Bull model yields an average of 0.8317478776698859 per year using 27 days\n",
      "This TROC Bear model yields an average of 0.06959614420667215 per year using 27 days\n",
      "This TROC Bull model yields an average of 0.7990948112285337 per year using 28 days\n",
      "This TROC Bear model yields an average of 0.08900901435904895 per year using 28 days\n",
      "This TROC Bull model yields an average of 1.085367826261327 per year using 29 days\n",
      "This TROC Bear model yields an average of -0.060486863544358505 per year using 29 days\n",
      "This TROC Bull model yields an average of 0.6628185684386481 per year using 30 days\n",
      "This TROC Bear model yields an average of 0.17825871342905453 per year using 30 days\n",
      "This TROC Bull model yields an average of 0.8551019217566695 per year using 31 days\n",
      "This TROC Bear model yields an average of 0.056130902640212366 per year using 31 days\n",
      "This TROC Bull model yields an average of 1.010987436093942 per year using 32 days\n",
      "This TROC Bear model yields an average of -0.02573709216205211 per year using 32 days\n",
      "This TROC Bull model yields an average of 0.8964108387282383 per year using 33 days\n",
      "This TROC Bear model yields an average of 0.03312553751715175 per year using 33 days\n",
      "This TROC Bull model yields an average of 0.8184477071365599 per year using 34 days\n",
      "This TROC Bear model yields an average of 0.07741919628779859 per year using 34 days\n",
      "This TROC Bull model yields an average of 0.948537909202287 per year using 35 days\n",
      "This TROC Bear model yields an average of 0.005487477488470116 per year using 35 days\n",
      "This TROC Bull model yields an average of 0.7065356222132808 per year using 36 days\n",
      "This TROC Bear model yields an average of 0.14807475543548954 per year using 36 days\n",
      "This TROC Bull model yields an average of 0.8097898249804591 per year using 37 days\n",
      "This TROC Bear model yields an average of 0.08257347901467949 per year using 37 days\n",
      "This TROC Bull model yields an average of 0.801430751802505 per year using 38 days\n",
      "This TROC Bear model yields an average of 0.08759688106471164 per year using 38 days\n",
      "This TROC Bull model yields an average of 0.9268815018635288 per year using 39 days\n",
      "This TROC Bear model yields an average of 0.01678824837938886 per year using 39 days\n",
      "This TROC Bull model yields an average of 0.6928941666080615 per year using 40 days\n",
      "This TROC Bear model yields an average of 0.157326019405007 per year using 40 days\n",
      "This TROC Bull model yields an average of 0.7813360056152936 per year using 41 days\n",
      "This TROC Bear model yields an average of 0.09986575297327138 per year using 41 days\n",
      "This TROC Bull model yields an average of 0.7356698037412039 per year using 42 days\n",
      "This TROC Bear model yields an average of 0.12880368310342094 per year using 42 days\n",
      "This TROC Bull model yields an average of 0.7162267641286071 per year using 43 days\n",
      "This TROC Bear model yields an average of 0.14159183859904334 per year using 43 days\n",
      "This TROC Bull model yields an average of 0.8300333528395387 per year using 44 days\n",
      "This TROC Bear model yields an average of 0.07059822930246584 per year using 44 days\n",
      "This TROC Bull model yields an average of 0.7515938616236832 per year using 45 days\n",
      "This TROC Bear model yields an average of 0.11854152383150485 per year using 45 days\n",
      "This TROC Bull model yields an average of 0.7959681415994042 per year using 46 days\n",
      "This TROC Bear model yields an average of 0.09090491180409566 per year using 46 days\n",
      "This TROC Bull model yields an average of 0.7962329325542763 per year using 47 days\n",
      "This TROC Bear model yields an average of 0.09074409649554815 per year using 47 days\n",
      "This TROC Bull model yields an average of 0.7908249240159408 per year using 48 days\n",
      "This TROC Bear model yields an average of 0.09403797146226456 per year using 48 days\n",
      "This TROC Bull model yields an average of 0.8673547853228554 per year using 49 days\n",
      "This TROC Bear model yields an average of 0.04920097804323986 per year using 49 days\n"
     ]
    }
   ],
   "source": [
    "#running the simple and exponential moving average tests\n",
    "for i in range(1, 50):\n",
    "    df = pd.read_csv('Tether.csv')\n",
    "    df.columns = df.columns.str.strip()\n",
    "    df['Pct Change'] = df['price'].pct_change()\n",
    "    df['TROC'] = df['tether'].diff(periods=i)\n",
    "    df['TROC Bull data'] = df['TROC'] >= .4\n",
    "    df['TROC Bear data'] = df['TROC'] <= 0\n",
    "    #actual model\n",
    "    df['Buy and Hold'] = 100*(1+df['Pct Change']).cumprod()\n",
    "    df['TROC Bull'] = 100*(1+df['TROC Bull data'].shift(1)*df['Pct Change']).cumprod()\n",
    "    df['TROC Bear'] = 100*(1+df['TROC Bear data'].shift(1)*df['Pct Change']).cumprod()\n",
    "    #TROC BULL MODEL\n",
    "    TROC_Bull_start = df['TROC Bull'].iloc[300]\n",
    "    TROC_Bull_end = df['TROC Bull'].iloc[-1]\n",
    "    years = (df['TROC Bull'].count()+1-300)/252\n",
    "    TROC_Bull_average_return = (TROC_Bull_end/TROC_Bull_start)**(1/years)-1\n",
    "    TROC_Bull_returns_dict[i] = TROC_Bull_average_return\n",
    "    print('This TROC Bull model yields an average of', TROC_Bull_average_return, 'per year', 'using', i, 'days')\n",
    "    output_to_csv1.append(('The ' + str(i) + ' ROC',TROC_Bull_average_return ))\n",
    "    #TROC BEAR MODEL\n",
    "    TROC_Bear_start = df['TROC Bear'].iloc[300]\n",
    "    TROC_Bear_end = df['TROC Bear'].iloc[-1]\n",
    "    TROC_Bear_average_return = (TROC_Bear_end/TROC_Bear_start)**(1/years)-1\n",
    "    TROC_Bear_returns_dict[i] = TROC_Bear_average_return\n",
    "    print('This TROC Bear model yields an average of', TROC_Bear_average_return, 'per year', 'using', i, 'days')\n",
    "    output_to_csv2.append(('The ' + str(i) + ' ROC',TROC_Bear_average_return ))\n",
    "    #buy and hold BTC result\n",
    "    start_BTC = df['price'].iloc[300]\n",
    "    end_BTC = df['price'].iloc[-1]\n",
    "    BTC_average_return = (end_BTC/start_BTC)**(1/years)-1"
   ]
  },
  {
   "cell_type": "code",
   "execution_count": 39,
   "metadata": {},
   "outputs": [
    {
     "name": "stdout",
     "output_type": "stream",
     "text": [
      "Buy and hold average return is 0.9592304671144634 per year\n"
     ]
    }
   ],
   "source": [
    "print('Buy and hold average return is', BTC_average_return, 'per year')\n",
    "out_df1 = pd.DataFrame(output_to_csv1, columns=['TROC Bull', 'average_return'])\n",
    "out_df2 = pd.DataFrame(output_to_csv2, columns=['TROC Bear', 'average_return'])"
   ]
  },
  {
   "cell_type": "code",
   "execution_count": 40,
   "metadata": {},
   "outputs": [
    {
     "name": "stdout",
     "output_type": "stream",
     "text": [
      "The best BULL TROC return is 1.1672277140758038 which uses 26 ROC days\n"
     ]
    }
   ],
   "source": [
    "#find best ROC Bull returns\n",
    "max_ROC_Bull_return = 0\n",
    "max_ROC_Bull_days = 0\n",
    "for key in TROC_Bull_returns_dict:\n",
    "    if TROC_Bull_returns_dict[key] > max_ROC_Bull_return:\n",
    "        max_ROC_Bull_return = TROC_Bull_returns_dict[key]\n",
    "        max_ROC_Bull_days = key\n",
    "    else:\n",
    "        max_ROC_Bull_return = max_ROC_Bull_return\n",
    "        max_ROC_Bull_days = max_ROC_Bull_days\n",
    "print('The best BULL TROC return is', max_ROC_Bull_return, 'which uses', max_ROC_Bull_days, 'ROC days')"
   ]
  },
  {
   "cell_type": "code",
   "execution_count": 41,
   "metadata": {},
   "outputs": [
    {
     "name": "stdout",
     "output_type": "stream",
     "text": [
      "The best BEAR TROC return is 0.18641926699182698 which uses 11 ROC days\n"
     ]
    }
   ],
   "source": [
    "#find best ROC Bear returns\n",
    "max_ROC_Bear_return = 0\n",
    "max_ROC_Bear_days = 0\n",
    "for key in TROC_Bear_returns_dict:\n",
    "    if TROC_Bear_returns_dict[key] > max_ROC_Bear_return:\n",
    "        max_ROC_Bear_return = TROC_Bear_returns_dict[key]\n",
    "        max_ROC_Bear_days = key\n",
    "    else:\n",
    "        max_ROC_Bear_return = max_ROC_Bear_return\n",
    "        max_ROC_Bear_days = max_ROC_Bear_days\n",
    "print('The best BEAR TROC return is', max_ROC_Bear_return, 'which uses', max_ROC_Bear_days, 'ROC days')"
   ]
  },
  {
   "cell_type": "code",
   "execution_count": 42,
   "metadata": {},
   "outputs": [
    {
     "name": "stdout",
     "output_type": "stream",
     "text": [
      "            date         price       tether  Pct Change          TROC  \\\n",
      "0     2018-05-30   7487.188804   2514662236         NaN           NaN   \n",
      "1     2018-05-31   7518.755952   2509647955    0.004216           NaN   \n",
      "2     2018-06-01   7636.531146   2514662236    0.015664           NaN   \n",
      "3     2018-06-02   7711.661796   2507140814    0.009838           NaN   \n",
      "4     2018-06-03   7491.309495   2529705081   -0.028574           NaN   \n",
      "...          ...           ...          ...         ...           ...   \n",
      "1272  2021-11-22  57580.606750  73767344646    0.022378  5.688856e+09   \n",
      "1273  2021-11-23  57197.189070  72515117499   -0.006659  1.051537e+10   \n",
      "1274  2021-11-24  58964.048440  72576887218    0.030891  4.505600e+09   \n",
      "1275  2021-11-25  53706.250910  72595750229   -0.089170  1.060840e+10   \n",
      "1276  2021-11-26  54800.737680  73164385235    0.020379  1.117208e+10   \n",
      "\n",
      "      TROC Bull data  TROC Bear data  Buy and Hold TROC Bull TROC Bear  \n",
      "0              False           False           NaN       NaN       NaN  \n",
      "1              False           False    100.421615       100       100  \n",
      "2              False           False    101.994638       100       100  \n",
      "3              False           False    102.998094       100       100  \n",
      "4              False           False    100.055037       100       100  \n",
      "...              ...             ...           ...       ...       ...  \n",
      "1272            True           False    769.055092    1413.6   54.5306  \n",
      "1273            True           False    763.934109   1404.19   54.5306  \n",
      "1274            True           False    787.532544   1447.56   54.5306  \n",
      "1275            True           False    717.308623   1318.48   54.5306  \n",
      "1276            True           False    731.926750   1345.35   54.5306  \n",
      "\n",
      "[1277 rows x 10 columns]\n"
     ]
    }
   ],
   "source": [
    "print(df)"
   ]
  },
  {
   "cell_type": "code",
   "execution_count": 43,
   "metadata": {},
   "outputs": [],
   "source": [
    "out_df1.to_csv('ROC Bull.csv')\n",
    "out_df2.to_csv('ROC Bear.csv')"
   ]
  },
  {
   "cell_type": "code",
   "execution_count": null,
   "metadata": {},
   "outputs": [],
   "source": []
  },
  {
   "cell_type": "code",
   "execution_count": null,
   "metadata": {},
   "outputs": [],
   "source": []
  },
  {
   "cell_type": "code",
   "execution_count": null,
   "metadata": {},
   "outputs": [],
   "source": []
  },
  {
   "cell_type": "code",
   "execution_count": null,
   "metadata": {},
   "outputs": [],
   "source": []
  }
 ],
 "metadata": {
  "kernelspec": {
   "display_name": "Python 3",
   "language": "python",
   "name": "python3"
  },
  "language_info": {
   "codemirror_mode": {
    "name": "ipython",
    "version": 3
   },
   "file_extension": ".py",
   "mimetype": "text/x-python",
   "name": "python",
   "nbconvert_exporter": "python",
   "pygments_lexer": "ipython3",
   "version": "3.7.4"
  }
 },
 "nbformat": 4,
 "nbformat_minor": 2
}
